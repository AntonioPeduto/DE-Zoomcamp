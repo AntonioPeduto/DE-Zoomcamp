{
 "cells": [
  {
   "cell_type": "markdown",
   "id": "7c9dced5-375b-4cff-a1aa-c2c41669c7dd",
   "metadata": {},
   "source": [
    "# Module 1 Homework\n",
    "## Docker & SQL\n",
    "\n",
    "In this homework we'll prepare the environment and practice with Docker and SQL"
   ]
  },
  {
   "cell_type": "markdown",
   "id": "8ef87fba-bf63-42a5-bbf1-2772e6f50498",
   "metadata": {},
   "source": [
    "Question 1. Knowing docker tags\n",
    "\n",
    "Run the command to get information on Docker\n",
    "\n",
    "docker --help\n",
    "\n",
    "Now run the command to get help on the \"docker build\" command:\n",
    "\n",
    "docker build --help\n",
    "\n",
    "Do the same for \"docker run\".\n",
    "\n",
    "Which tag has the following text? - Automatically remove the container when it exits\n",
    "\n",
    "    --delete\n",
    "    --rc\n",
    "    --rmc\n",
    "    --rm"
   ]
  },
  {
   "cell_type": "code",
   "execution_count": 1,
   "id": "3ff2af77-63a1-4b64-815f-92952e030c88",
   "metadata": {},
   "outputs": [],
   "source": [
    "# sudo docker --help"
   ]
  },
  {
   "cell_type": "markdown",
   "id": "7123b548-9004-4550-8e79-bda25d422343",
   "metadata": {},
   "source": [
    "Question 2. Understanding docker first run\n",
    "\n",
    "Run docker with the python:3.9 image in an interactive mode and the entrypoint of bash. Now check the python modules that are installed ( use pip list ).\n",
    "\n",
    "What is version of the package wheel ?\n",
    "\n",
    "    0.42.0\n",
    "    1.0.0\n",
    "    23.0.1\n",
    "    58.1.0"
   ]
  },
  {
   "cell_type": "code",
   "execution_count": 2,
   "id": "7505cb7e-e062-451e-b14c-640a67acf829",
   "metadata": {},
   "outputs": [],
   "source": [
    "# sudo docker run -it puthon:3.9 --entrypoint bash\n",
    "# pip list\n",
    "# 0.40.0"
   ]
  },
  {
   "cell_type": "markdown",
   "id": "8b18056e-e891-42d9-bc75-299820193c82",
   "metadata": {},
   "source": [
    "Prepare Postgres\n",
    "\n",
    "Run Postgres and load data as shown in the videos We'll use the green taxi trips from September 2019:\n",
    "<code>\n",
    "wget https://github.com/DataTalksClub/nyc-tlc-data/releases/download/green/green_tripdata_2019-09.csv.gz\n",
    "</code>\n",
    "\n",
    "You will also need the dataset with zones:\n",
    "<code>\n",
    "wget https://s3.amazonaws.com/nyc-tlc/misc/taxi+_zone_lookup.csv\n",
    "</code>\n",
    "\n",
    "Download this data and put it into Postgres (with jupyter notebooks or with a pipeline)"
   ]
  },
  {
   "cell_type": "code",
   "execution_count": 3,
   "id": "69cac39a-1075-4005-8f9f-7ce2f383ce54",
   "metadata": {},
   "outputs": [],
   "source": [
    "import pandas as pd\n",
    "from sqlalchemy import create_engine"
   ]
  },
  {
   "cell_type": "code",
   "execution_count": 4,
   "id": "e5d92452-0e27-455f-be64-03ac4a38066a",
   "metadata": {},
   "outputs": [],
   "source": [
    "user='root'\n",
    "password='root'\n",
    "host='localhost'\n",
    "port=5432\n",
    "dbname='ny_taxi'\n",
    "engine = create_engine(f\"postgresql://{user}:{password}@{host}/{dbname}\")"
   ]
  },
  {
   "cell_type": "markdown",
   "id": "55bd220a-4bab-4133-914f-80533dd1737b",
   "metadata": {},
   "source": [
    "Question 3. Count records\n",
    "\n",
    "How many taxi trips were totally made on September 18th 2019?\n",
    "\n",
    "Tip: started and finished on 2019-09-18.\n",
    "\n",
    "Remember that lpep_pickup_datetime and lpep_dropoff_datetime columns are in the format timestamp (date and hour+min+sec) and not in date.\n",
    "\n",
    "    15767\n",
    "    15612\n",
    "    15859\n",
    "    89009"
   ]
  },
  {
   "cell_type": "code",
   "execution_count": 5,
   "id": "df0a0b5a-61b1-416b-b1c3-dea945218178",
   "metadata": {},
   "outputs": [
    {
     "data": {
      "text/html": [
       "<div>\n",
       "<style scoped>\n",
       "    .dataframe tbody tr th:only-of-type {\n",
       "        vertical-align: middle;\n",
       "    }\n",
       "\n",
       "    .dataframe tbody tr th {\n",
       "        vertical-align: top;\n",
       "    }\n",
       "\n",
       "    .dataframe thead th {\n",
       "        text-align: right;\n",
       "    }\n",
       "</style>\n",
       "<table border=\"1\" class=\"dataframe\">\n",
       "  <thead>\n",
       "    <tr style=\"text-align: right;\">\n",
       "      <th></th>\n",
       "      <th>num_trips</th>\n",
       "    </tr>\n",
       "  </thead>\n",
       "  <tbody>\n",
       "    <tr>\n",
       "      <th>0</th>\n",
       "      <td>15612</td>\n",
       "    </tr>\n",
       "  </tbody>\n",
       "</table>\n",
       "</div>"
      ],
      "text/plain": [
       "   num_trips\n",
       "0      15612"
      ]
     },
     "execution_count": 5,
     "metadata": {},
     "output_type": "execute_result"
    }
   ],
   "source": [
    "pd.read_sql_query(sql=\"\"\"SELECT COUNT(1) AS NUM_TRIPS FROM green_trip_data\n",
    "WHERE DATE(lpep_pickup_datetime) = TO_DATE('2019-09-18','YYYY-MM-DD')\n",
    "AND DATE(lpep_dropoff_datetime) = TO_DATE('2019-09-18','YYYY-MM-DD');\"\"\", con=engine)"
   ]
  },
  {
   "cell_type": "markdown",
   "id": "1f4555c3-15c2-465f-b4f7-941eaaac7ac0",
   "metadata": {},
   "source": [
    "Question 4. Largest trip for each day\n",
    "\n",
    "Which was the pick up day with the largest trip distance. Use the pick up time for your calculations.\n",
    "\n",
    "    2019-09-18\n",
    "    2019-09-16\n",
    "    2019-09-26\n",
    "    2019-09-21"
   ]
  },
  {
   "cell_type": "code",
   "execution_count": 6,
   "id": "e5c68598-270d-45b8-a2fd-5f429dc1fdc7",
   "metadata": {},
   "outputs": [
    {
     "data": {
      "text/html": [
       "<div>\n",
       "<style scoped>\n",
       "    .dataframe tbody tr th:only-of-type {\n",
       "        vertical-align: middle;\n",
       "    }\n",
       "\n",
       "    .dataframe tbody tr th {\n",
       "        vertical-align: top;\n",
       "    }\n",
       "\n",
       "    .dataframe thead th {\n",
       "        text-align: right;\n",
       "    }\n",
       "</style>\n",
       "<table border=\"1\" class=\"dataframe\">\n",
       "  <thead>\n",
       "    <tr style=\"text-align: right;\">\n",
       "      <th></th>\n",
       "      <th>date</th>\n",
       "    </tr>\n",
       "  </thead>\n",
       "  <tbody>\n",
       "    <tr>\n",
       "      <th>0</th>\n",
       "      <td>2019-09-26</td>\n",
       "    </tr>\n",
       "  </tbody>\n",
       "</table>\n",
       "</div>"
      ],
      "text/plain": [
       "         date\n",
       "0  2019-09-26"
      ]
     },
     "execution_count": 6,
     "metadata": {},
     "output_type": "execute_result"
    }
   ],
   "source": [
    "pd.read_sql_query(sql=\"\"\"SELECT DATE(lpep_pickup_datetime)\n",
    "FROM green_trip_data\n",
    "ORDER BY EXTRACT(EPOCH FROM (lpep_dropoff_datetime - Lpep_pickup_datetime)) DESC\n",
    "LIMIT 1;\"\"\", con=engine)"
   ]
  },
  {
   "cell_type": "markdown",
   "id": "df6b90ef-9c93-475e-9a62-501b97d3ec93",
   "metadata": {},
   "source": [
    "Question 5. The number of passengers\n",
    "\n",
    "Consider lpep_pickup_datetime in '2019-09-18' and ignoring Borough has Unknown\n",
    "\n",
    "Which were the 3 pick up Boroughs that had a sum of total_amount superior to 50000?\n",
    "\n",
    "    \"Brooklyn\" \"Manhattan\" \"Queens\"\n",
    "    \"Bronx\" \"Brooklyn\" \"Manhattan\"\n",
    "    \"Bronx\" \"Manhattan\" \"Queens\"\n",
    "    \"Brooklyn\" \"Queens\" \"Staten Island\""
   ]
  },
  {
   "cell_type": "code",
   "execution_count": 7,
   "id": "156d3df6-1835-467c-bd17-40f9cf28d47a",
   "metadata": {},
   "outputs": [
    {
     "data": {
      "text/html": [
       "<div>\n",
       "<style scoped>\n",
       "    .dataframe tbody tr th:only-of-type {\n",
       "        vertical-align: middle;\n",
       "    }\n",
       "\n",
       "    .dataframe tbody tr th {\n",
       "        vertical-align: top;\n",
       "    }\n",
       "\n",
       "    .dataframe thead th {\n",
       "        text-align: right;\n",
       "    }\n",
       "</style>\n",
       "<table border=\"1\" class=\"dataframe\">\n",
       "  <thead>\n",
       "    <tr style=\"text-align: right;\">\n",
       "      <th></th>\n",
       "      <th>Borough</th>\n",
       "    </tr>\n",
       "  </thead>\n",
       "  <tbody>\n",
       "    <tr>\n",
       "      <th>0</th>\n",
       "      <td>Brooklyn</td>\n",
       "    </tr>\n",
       "    <tr>\n",
       "      <th>1</th>\n",
       "      <td>Queens</td>\n",
       "    </tr>\n",
       "    <tr>\n",
       "      <th>2</th>\n",
       "      <td>Manhattan</td>\n",
       "    </tr>\n",
       "  </tbody>\n",
       "</table>\n",
       "</div>"
      ],
      "text/plain": [
       "     Borough\n",
       "0   Brooklyn\n",
       "1     Queens\n",
       "2  Manhattan"
      ]
     },
     "execution_count": 7,
     "metadata": {},
     "output_type": "execute_result"
    }
   ],
   "source": [
    "pd.read_sql_query(sql=\"\"\"SELECT b.\"Borough\" --SUM(a.total_amount) \n",
    "FROM green_trip_data as a\n",
    "INNER JOIN taxi_zone as b ON a.\"PULocationID\" = b.\"LocationID\"\n",
    "GROUP BY b.\"Borough\"\n",
    "HAVING SUM(a.total_amount) >5000\n",
    "ORDER BY SUM(a.total_amount) DESC\n",
    "LIMIT 3;\"\"\", con=engine)"
   ]
  },
  {
   "cell_type": "markdown",
   "id": "0fea70f2-4868-4689-9835-ff0caeefe78f",
   "metadata": {},
   "source": [
    "Question 6. Largest tip\n",
    "\n",
    "For the passengers picked up in September 2019 in the zone name Astoria which was the drop off zone that had the largest tip? We want the name of the zone, not the id.\n",
    "\n",
    "Note: it's not a typo, it's tip , not trip\n",
    "\n",
    "    Central Park\n",
    "    Jamaica\n",
    "    JFK Airport\n",
    "    Long Island City/Queens Plaza"
   ]
  },
  {
   "cell_type": "code",
   "execution_count": 8,
   "id": "fbbe452b-0c16-4fae-adf4-44202f46efd3",
   "metadata": {},
   "outputs": [
    {
     "data": {
      "text/html": [
       "<div>\n",
       "<style scoped>\n",
       "    .dataframe tbody tr th:only-of-type {\n",
       "        vertical-align: middle;\n",
       "    }\n",
       "\n",
       "    .dataframe tbody tr th {\n",
       "        vertical-align: top;\n",
       "    }\n",
       "\n",
       "    .dataframe thead th {\n",
       "        text-align: right;\n",
       "    }\n",
       "</style>\n",
       "<table border=\"1\" class=\"dataframe\">\n",
       "  <thead>\n",
       "    <tr style=\"text-align: right;\">\n",
       "      <th></th>\n",
       "      <th>Zone</th>\n",
       "    </tr>\n",
       "  </thead>\n",
       "  <tbody>\n",
       "    <tr>\n",
       "      <th>0</th>\n",
       "      <td>JFK Airport</td>\n",
       "    </tr>\n",
       "  </tbody>\n",
       "</table>\n",
       "</div>"
      ],
      "text/plain": [
       "          Zone\n",
       "0  JFK Airport"
      ]
     },
     "execution_count": 8,
     "metadata": {},
     "output_type": "execute_result"
    }
   ],
   "source": [
    "pd.read_sql_query(sql=\"\"\"SELECT c.\"Zone\" \n",
    "FROM green_trip_data as a\n",
    "INNER JOIN taxi_zone as b ON a.\"PULocationID\" = b.\"LocationID\"\n",
    "INNER JOIN taxi_zone as c ON a.\"DOLocationID\" = c.\"LocationID\"\n",
    "WHERE EXTRACT('YEAR' FROM a.lpep_pickup_datetime) = '2019' AND EXTRACT('MONTH' FROM a.lpep_pickup_datetime)='09'\n",
    "AND b.\"Zone\"='Astoria'\n",
    "ORDER BY a.tip_amount DESC\n",
    "LIMIT 1;\"\"\", con=engine)"
   ]
  },
  {
   "cell_type": "markdown",
   "id": "12d96352-4181-4b8e-8fa4-a1e1641a9652",
   "metadata": {},
   "source": [
    "## Terraform\n",
    "\n",
    "In this section homework we'll prepare the environment by creating resources in GCP with Terraform.\n",
    "\n",
    "In your VM on GCP/Laptop/GitHub Codespace install Terraform. Copy the files from the course repo here to your VM/Laptop/GitHub Codespace.\n",
    "\n",
    "Modify the files as necessary to create a GCP Bucket and Big Query Dataset."
   ]
  },
  {
   "cell_type": "markdown",
   "id": "e1f04c25-c4ef-4d42-af01-176a07345a0f",
   "metadata": {},
   "source": [
    "Question 7. Creating Resources\n",
    "\n",
    "After updating the main.tf and variable.tf files run:\n",
    "```bash\n",
    "terraform apply\n",
    "```\n",
    "Paste the output of this command into the homework submission form."
   ]
  },
  {
   "cell_type": "markdown",
   "id": "157b21ce-160f-482d-96fb-c16243c0ca23",
   "metadata": {},
   "source": [
    "```bash\n",
    "Terraform used the selected providers to generate the following execution plan. Resource actions\n",
    "are indicated with the following symbols:\n",
    "  + create\n",
    "\n",
    "Terraform will perform the following actions:\n",
    "\n",
    "  # google_bigquery_dataset.demo_dataset will be created\n",
    "  + resource \"google_bigquery_dataset\" \"demo_dataset\" {\n",
    "      + creation_time              = (known after apply)\n",
    "      + dataset_id                 = \"demo_dataset\"\n",
    "      + default_collation          = (known after apply)\n",
    "      + delete_contents_on_destroy = false\n",
    "      + effective_labels           = (known after apply)\n",
    "      + etag                       = (known after apply)\n",
    "      + id                         = (known after apply)\n",
    "      + is_case_insensitive        = (known after apply)\n",
    "      + last_modified_time         = (known after apply)\n",
    "      + location                   = \"EU\"\n",
    "      + max_time_travel_hours      = (known after apply)\n",
    "      + project                    = \"project_id\"\n",
    "      + self_link                  = (known after apply)\n",
    "      + storage_billing_model      = (known after apply)\n",
    "      + terraform_labels           = (known after apply)\n",
    "    }\n",
    "\n",
    "  # google_storage_bucket.demo-bucket will be created\n",
    "  + resource \"google_storage_bucket\" \"demo-bucket\" {\n",
    "      + effective_labels            = (known after apply)\n",
    "      + force_destroy               = true\n",
    "      + id                          = (known after apply)\n",
    "      + location                    = \"EU\"\n",
    "      + name                        = \"demo-bucket\"\n",
    "      + project                     = (known after apply)\n",
    "      + public_access_prevention    = (known after apply)\n",
    "      + rpo                         = (known after apply)\n",
    "      + self_link                   = (known after apply)\n",
    "      + storage_class               = \"STANDARD\"\n",
    "      + terraform_labels            = (known after apply)\n",
    "      + uniform_bucket_level_access = (known after apply)\n",
    "      + url                         = (known after apply)\n",
    "\n",
    "      + lifecycle_rule {\n",
    "          + action {\n",
    "              + type = \"AbortIncompleteMultipartUpload\"\n",
    "            }\n",
    "          + condition {\n",
    "              + age                   = 1\n",
    "              + matches_prefix        = []\n",
    "              + matches_storage_class = []\n",
    "              + matches_suffix        = []\n",
    "              + with_state            = (known after apply)\n",
    "            }\n",
    "        }\n",
    "    }\n",
    "\n",
    "Plan: 2 to add, 0 to change, 0 to destroy.\n",
    "\n",
    "Do you want to perform these actions?\n",
    "  Terraform will perform the actions described above.\n",
    "  Only 'yes' will be accepted to approve.\n",
    "\n",
    "  Enter a value: yes\n",
    "\n",
    "google_bigquery_dataset.demo_dataset: Creating...\n",
    "google_storage_bucket.demo-bucket: Creating...\n",
    "google_storage_bucket.demo-bucket: Creation complete after 2s [id=...]\n",
    "google_bigquery_dataset.demo_dataset: Creation complete after 2s [id=...]\n",
    "```"
   ]
  },
  {
   "cell_type": "code",
   "execution_count": null,
   "id": "582eac4c-7b22-44fe-86a1-96863df45655",
   "metadata": {},
   "outputs": [],
   "source": []
  }
 ],
 "metadata": {
  "kernelspec": {
   "display_name": "Python 3",
   "language": "python",
   "name": "python3"
  },
  "language_info": {
   "codemirror_mode": {
    "name": "ipython",
    "version": 3
   },
   "file_extension": ".py",
   "mimetype": "text/x-python",
   "name": "python",
   "nbconvert_exporter": "python",
   "pygments_lexer": "ipython3",
   "version": "3.9.18"
  }
 },
 "nbformat": 4,
 "nbformat_minor": 5
}
